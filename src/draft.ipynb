{
 "cells": [
  {
   "cell_type": "code",
   "execution_count": 1,
   "metadata": {},
   "outputs": [],
   "source": [
    "import os"
   ]
  },
  {
   "cell_type": "code",
   "execution_count": 2,
   "metadata": {},
   "outputs": [],
   "source": [
    "datasets = [\"beauty\", \"movies\"]\n",
    "profile_types = [\"iterative\", \"preference_negative\", \"preference_positive\", \"vanilla\", \"vanilla_structured\"]\n",
    "\n",
    "for dataset in datasets:\n",
    "    for profile_type in profile_types:\n",
    "        for file in os.listdir(f\"../type_2_eval/{dataset}/{profile_type}\"):\n",
    "            if file.startswith(\"user\"):\n",
    "                os.remove(f\"../type_2_eval/{dataset}/{profile_type}/{file}\")"
   ]
  }
 ],
 "metadata": {
  "kernelspec": {
   "display_name": "recsys",
   "language": "python",
   "name": "python3"
  },
  "language_info": {
   "codemirror_mode": {
    "name": "ipython",
    "version": 3
   },
   "file_extension": ".py",
   "mimetype": "text/x-python",
   "name": "python",
   "nbconvert_exporter": "python",
   "pygments_lexer": "ipython3",
   "version": "3.9.0"
  }
 },
 "nbformat": 4,
 "nbformat_minor": 2
}
